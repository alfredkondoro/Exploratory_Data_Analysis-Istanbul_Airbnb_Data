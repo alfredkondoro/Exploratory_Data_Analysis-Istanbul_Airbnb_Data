{
 "cells": [
  {
   "cell_type": "markdown",
   "id": "f0e12327",
   "metadata": {
    "papermill": {
     "duration": 0.008192,
     "end_time": "2023-08-13T14:51:50.380073",
     "exception": false,
     "start_time": "2023-08-13T14:51:50.371881",
     "status": "completed"
    },
    "tags": []
   },
   "source": [
    "**Importing Libraries**"
   ]
  },
  {
   "cell_type": "code",
   "execution_count": 1,
   "id": "1bb68622",
   "metadata": {
    "execution": {
     "iopub.execute_input": "2023-08-13T14:51:50.398167Z",
     "iopub.status.busy": "2023-08-13T14:51:50.396844Z",
     "iopub.status.idle": "2023-08-13T14:51:52.556878Z",
     "shell.execute_reply": "2023-08-13T14:51:52.555724Z"
    },
    "papermill": {
     "duration": 2.171348,
     "end_time": "2023-08-13T14:51:52.559275",
     "exception": false,
     "start_time": "2023-08-13T14:51:50.387927",
     "status": "completed"
    },
    "tags": []
   },
   "outputs": [
    {
     "name": "stderr",
     "output_type": "stream",
     "text": [
      "/opt/conda/lib/python3.10/site-packages/scipy/__init__.py:146: UserWarning: A NumPy version >=1.16.5 and <1.23.0 is required for this version of SciPy (detected version 1.23.5\n",
      "  warnings.warn(f\"A NumPy version >={np_minversion} and <{np_maxversion}\"\n"
     ]
    }
   ],
   "source": [
    "import pandas as pd\n",
    "import numpy as np\n",
    "import plotly.express as px\n",
    "import matplotlib.pyplot as plt\n",
    "import seaborn as sns"
   ]
  },
  {
   "cell_type": "markdown",
   "id": "43de4498",
   "metadata": {
    "papermill": {
     "duration": 0.009182,
     "end_time": "2023-08-13T14:51:52.576536",
     "exception": false,
     "start_time": "2023-08-13T14:51:52.567354",
     "status": "completed"
    },
    "tags": []
   },
   "source": [
    "**Reading and exploring the data**"
   ]
  },
  {
   "cell_type": "code",
   "execution_count": 2,
   "id": "94a3cf34",
   "metadata": {
    "execution": {
     "iopub.execute_input": "2023-08-13T14:51:52.594333Z",
     "iopub.status.busy": "2023-08-13T14:51:52.593975Z",
     "iopub.status.idle": "2023-08-13T14:51:52.776037Z",
     "shell.execute_reply": "2023-08-13T14:51:52.775002Z"
    },
    "papermill": {
     "duration": 0.193368,
     "end_time": "2023-08-13T14:51:52.777861",
     "exception": false,
     "start_time": "2023-08-13T14:51:52.584493",
     "status": "completed"
    },
    "tags": []
   },
   "outputs": [
    {
     "data": {
      "text/html": [
       "<div>\n",
       "<style scoped>\n",
       "    .dataframe tbody tr th:only-of-type {\n",
       "        vertical-align: middle;\n",
       "    }\n",
       "\n",
       "    .dataframe tbody tr th {\n",
       "        vertical-align: top;\n",
       "    }\n",
       "\n",
       "    .dataframe thead th {\n",
       "        text-align: right;\n",
       "    }\n",
       "</style>\n",
       "<table border=\"1\" class=\"dataframe\">\n",
       "  <thead>\n",
       "    <tr style=\"text-align: right;\">\n",
       "      <th></th>\n",
       "      <th>id</th>\n",
       "      <th>name</th>\n",
       "      <th>host_id</th>\n",
       "      <th>host_name</th>\n",
       "      <th>neighbourhood_group</th>\n",
       "      <th>neighbourhood</th>\n",
       "      <th>latitude</th>\n",
       "      <th>longitude</th>\n",
       "      <th>room_type</th>\n",
       "      <th>price</th>\n",
       "      <th>minimum_nights</th>\n",
       "      <th>number_of_reviews</th>\n",
       "      <th>last_review</th>\n",
       "      <th>reviews_per_month</th>\n",
       "      <th>calculated_host_listings_count</th>\n",
       "      <th>availability_365</th>\n",
       "    </tr>\n",
       "  </thead>\n",
       "  <tbody>\n",
       "    <tr>\n",
       "      <th>0</th>\n",
       "      <td>4826</td>\n",
       "      <td>The Place</td>\n",
       "      <td>6603</td>\n",
       "      <td>Kaan</td>\n",
       "      <td>NaN</td>\n",
       "      <td>Uskudar</td>\n",
       "      <td>41.05650</td>\n",
       "      <td>29.05367</td>\n",
       "      <td>Entire home/apt</td>\n",
       "      <td>720</td>\n",
       "      <td>1</td>\n",
       "      <td>1</td>\n",
       "      <td>2009-06-01</td>\n",
       "      <td>0.01</td>\n",
       "      <td>1</td>\n",
       "      <td>365</td>\n",
       "    </tr>\n",
       "    <tr>\n",
       "      <th>1</th>\n",
       "      <td>20815</td>\n",
       "      <td>The Bosphorus from The Comfy Hill</td>\n",
       "      <td>78838</td>\n",
       "      <td>Gülder</td>\n",
       "      <td>NaN</td>\n",
       "      <td>Besiktas</td>\n",
       "      <td>41.06984</td>\n",
       "      <td>29.04545</td>\n",
       "      <td>Entire home/apt</td>\n",
       "      <td>816</td>\n",
       "      <td>365</td>\n",
       "      <td>41</td>\n",
       "      <td>2018-11-07</td>\n",
       "      <td>0.33</td>\n",
       "      <td>2</td>\n",
       "      <td>279</td>\n",
       "    </tr>\n",
       "    <tr>\n",
       "      <th>2</th>\n",
       "      <td>27271</td>\n",
       "      <td>LOVELY APT. IN PERFECT LOCATION</td>\n",
       "      <td>117026</td>\n",
       "      <td>Mutlu</td>\n",
       "      <td>NaN</td>\n",
       "      <td>Beyoglu</td>\n",
       "      <td>41.03254</td>\n",
       "      <td>28.98153</td>\n",
       "      <td>Entire home/apt</td>\n",
       "      <td>233</td>\n",
       "      <td>30</td>\n",
       "      <td>13</td>\n",
       "      <td>2018-05-04</td>\n",
       "      <td>0.19</td>\n",
       "      <td>1</td>\n",
       "      <td>289</td>\n",
       "    </tr>\n",
       "    <tr>\n",
       "      <th>3</th>\n",
       "      <td>28277</td>\n",
       "      <td>Duplex Apartment with Terrace</td>\n",
       "      <td>121607</td>\n",
       "      <td>Alen</td>\n",
       "      <td>NaN</td>\n",
       "      <td>Sisli</td>\n",
       "      <td>41.04471</td>\n",
       "      <td>28.98567</td>\n",
       "      <td>Hotel room</td>\n",
       "      <td>761</td>\n",
       "      <td>3</td>\n",
       "      <td>0</td>\n",
       "      <td>NaN</td>\n",
       "      <td>NaN</td>\n",
       "      <td>19</td>\n",
       "      <td>365</td>\n",
       "    </tr>\n",
       "    <tr>\n",
       "      <th>4</th>\n",
       "      <td>28318</td>\n",
       "      <td>Cosy home overlooking Bosphorus</td>\n",
       "      <td>121721</td>\n",
       "      <td>Aydin</td>\n",
       "      <td>NaN</td>\n",
       "      <td>Sariyer</td>\n",
       "      <td>41.09048</td>\n",
       "      <td>29.05559</td>\n",
       "      <td>Entire home/apt</td>\n",
       "      <td>823</td>\n",
       "      <td>3</td>\n",
       "      <td>0</td>\n",
       "      <td>NaN</td>\n",
       "      <td>NaN</td>\n",
       "      <td>1</td>\n",
       "      <td>88</td>\n",
       "    </tr>\n",
       "  </tbody>\n",
       "</table>\n",
       "</div>"
      ],
      "text/plain": [
       "      id                               name  host_id host_name  \\\n",
       "0   4826                          The Place     6603      Kaan   \n",
       "1  20815  The Bosphorus from The Comfy Hill    78838    Gülder   \n",
       "2  27271    LOVELY APT. IN PERFECT LOCATION   117026     Mutlu   \n",
       "3  28277      Duplex Apartment with Terrace   121607      Alen   \n",
       "4  28318    Cosy home overlooking Bosphorus   121721     Aydin   \n",
       "\n",
       "   neighbourhood_group neighbourhood  latitude  longitude        room_type  \\\n",
       "0                  NaN       Uskudar  41.05650   29.05367  Entire home/apt   \n",
       "1                  NaN      Besiktas  41.06984   29.04545  Entire home/apt   \n",
       "2                  NaN       Beyoglu  41.03254   28.98153  Entire home/apt   \n",
       "3                  NaN         Sisli  41.04471   28.98567       Hotel room   \n",
       "4                  NaN       Sariyer  41.09048   29.05559  Entire home/apt   \n",
       "\n",
       "   price  minimum_nights  number_of_reviews last_review  reviews_per_month  \\\n",
       "0    720               1                  1  2009-06-01               0.01   \n",
       "1    816             365                 41  2018-11-07               0.33   \n",
       "2    233              30                 13  2018-05-04               0.19   \n",
       "3    761               3                  0         NaN                NaN   \n",
       "4    823               3                  0         NaN                NaN   \n",
       "\n",
       "   calculated_host_listings_count  availability_365  \n",
       "0                               1               365  \n",
       "1                               2               279  \n",
       "2                               1               289  \n",
       "3                              19               365  \n",
       "4                               1                88  "
      ]
     },
     "execution_count": 2,
     "metadata": {},
     "output_type": "execute_result"
    }
   ],
   "source": [
    "data = pd.read_csv(\"/kaggle/input/istanbul-airbnb-dataset/listings.csv\")\n",
    "data.head()"
   ]
  },
  {
   "cell_type": "markdown",
   "id": "c3f2fc5d",
   "metadata": {
    "papermill": {
     "duration": 0.007684,
     "end_time": "2023-08-13T14:51:52.793633",
     "exception": false,
     "start_time": "2023-08-13T14:51:52.785949",
     "status": "completed"
    },
    "tags": []
   },
   "source": [
    "**Understanding the shape of data**"
   ]
  },
  {
   "cell_type": "code",
   "execution_count": 3,
   "id": "2741be20",
   "metadata": {
    "execution": {
     "iopub.execute_input": "2023-08-13T14:51:52.811665Z",
     "iopub.status.busy": "2023-08-13T14:51:52.811248Z",
     "iopub.status.idle": "2023-08-13T14:51:52.818638Z",
     "shell.execute_reply": "2023-08-13T14:51:52.816950Z"
    },
    "papermill": {
     "duration": 0.019681,
     "end_time": "2023-08-13T14:51:52.821137",
     "exception": false,
     "start_time": "2023-08-13T14:51:52.801456",
     "status": "completed"
    },
    "tags": []
   },
   "outputs": [
    {
     "data": {
      "text/plain": [
       "(23728, 16)"
      ]
     },
     "execution_count": 3,
     "metadata": {},
     "output_type": "execute_result"
    }
   ],
   "source": [
    "data.shape"
   ]
  },
  {
   "cell_type": "markdown",
   "id": "9c083319",
   "metadata": {
    "papermill": {
     "duration": 0.009225,
     "end_time": "2023-08-13T14:51:52.839370",
     "exception": false,
     "start_time": "2023-08-13T14:51:52.830145",
     "status": "completed"
    },
    "tags": []
   },
   "source": [
    "**Extracting the column names**"
   ]
  },
  {
   "cell_type": "code",
   "execution_count": 4,
   "id": "e3b93b3b",
   "metadata": {
    "execution": {
     "iopub.execute_input": "2023-08-13T14:51:52.861779Z",
     "iopub.status.busy": "2023-08-13T14:51:52.860564Z",
     "iopub.status.idle": "2023-08-13T14:51:52.867077Z",
     "shell.execute_reply": "2023-08-13T14:51:52.866316Z"
    },
    "papermill": {
     "duration": 0.020971,
     "end_time": "2023-08-13T14:51:52.868954",
     "exception": false,
     "start_time": "2023-08-13T14:51:52.847983",
     "status": "completed"
    },
    "tags": []
   },
   "outputs": [
    {
     "data": {
      "text/plain": [
       "['id',\n",
       " 'name',\n",
       " 'host_id',\n",
       " 'host_name',\n",
       " 'neighbourhood_group',\n",
       " 'neighbourhood',\n",
       " 'latitude',\n",
       " 'longitude',\n",
       " 'room_type',\n",
       " 'price',\n",
       " 'minimum_nights',\n",
       " 'number_of_reviews',\n",
       " 'last_review',\n",
       " 'reviews_per_month',\n",
       " 'calculated_host_listings_count',\n",
       " 'availability_365']"
      ]
     },
     "execution_count": 4,
     "metadata": {},
     "output_type": "execute_result"
    }
   ],
   "source": [
    "list(data.columns)"
   ]
  },
  {
   "cell_type": "markdown",
   "id": "2454b5d2",
   "metadata": {
    "papermill": {
     "duration": 0.007849,
     "end_time": "2023-08-13T14:51:52.886516",
     "exception": false,
     "start_time": "2023-08-13T14:51:52.878667",
     "status": "completed"
    },
    "tags": []
   },
   "source": [
    "**Calculating the booking price metrics**"
   ]
  },
  {
   "cell_type": "code",
   "execution_count": 5,
   "id": "4e9eb989",
   "metadata": {
    "execution": {
     "iopub.execute_input": "2023-08-13T14:51:52.907835Z",
     "iopub.status.busy": "2023-08-13T14:51:52.906884Z",
     "iopub.status.idle": "2023-08-13T14:51:52.919581Z",
     "shell.execute_reply": "2023-08-13T14:51:52.918762Z"
    },
    "papermill": {
     "duration": 0.024981,
     "end_time": "2023-08-13T14:51:52.921563",
     "exception": false,
     "start_time": "2023-08-13T14:51:52.896582",
     "status": "completed"
    },
    "tags": []
   },
   "outputs": [
    {
     "name": "stdout",
     "output_type": "stream",
     "text": [
      "Mean booking price: ₺ 484.64\n",
      "Median booking price: ₺ 247.0\n",
      "Standard deviation: ₺ 1973.84\n",
      "Maximum booking price: ₺ 76922\n",
      "Minimum booking price: ₺ 0\n"
     ]
    }
   ],
   "source": [
    "booking_price = data.loc[:, 'price']\n",
    "\n",
    "#mean value\n",
    "mean_bookingprice = np.mean(booking_price)\n",
    "print('Mean booking price: ₺', round(mean_bookingprice,2))\n",
    "\n",
    "#median value\n",
    "median_bookingprice = np.median(booking_price)\n",
    "print('Median booking price: ₺', median_bookingprice)\n",
    "\n",
    "#standard deviation value\n",
    "std_bookingprice = np.std(booking_price)\n",
    "print('Standard deviation: ₺', round(std_bookingprice, 2))\n",
    "\n",
    "#maximum value\n",
    "max_bookingprice = np.max(booking_price)\n",
    "print('Maximum booking price: ₺', max_bookingprice)\n",
    "\n",
    "#minimum value\n",
    "min_bookingprice = np.min(booking_price)\n",
    "print('Minimum booking price: ₺', min_bookingprice)"
   ]
  },
  {
   "cell_type": "markdown",
   "id": "fb6e3672",
   "metadata": {
    "papermill": {
     "duration": 0.008381,
     "end_time": "2023-08-13T14:51:52.939160",
     "exception": false,
     "start_time": "2023-08-13T14:51:52.930779",
     "status": "completed"
    },
    "tags": []
   },
   "source": [
    "**Booking Price distribution**"
   ]
  },
  {
   "cell_type": "code",
   "execution_count": 6,
   "id": "6ae49c3f",
   "metadata": {
    "execution": {
     "iopub.execute_input": "2023-08-13T14:51:52.959977Z",
     "iopub.status.busy": "2023-08-13T14:51:52.959416Z",
     "iopub.status.idle": "2023-08-13T14:51:53.303666Z",
     "shell.execute_reply": "2023-08-13T14:51:53.301613Z"
    },
    "papermill": {
     "duration": 0.356925,
     "end_time": "2023-08-13T14:51:53.306018",
     "exception": false,
     "start_time": "2023-08-13T14:51:52.949093",
     "status": "completed"
    },
    "tags": []
   },
   "outputs": [
    {
     "data": {
      "image/png": "[encoded data removed]",
      "text/plain": [
       "<Figure size 1000x600 with 1 Axes>"
      ]
     },
     "metadata": {},
     "output_type": "display_data"
    }
   ],
   "source": [
    "plt.figure(figsize=(10,6))\n",
    "sns.histplot(data[data['price'] <= 5000], x='price', bins=\"doane\", kde=False, color='#035553')\n",
    "plt.title('Distribution of Rental Prices')\n",
    "plt.xlabel('Price')\n",
    "plt.ylabel('Frequency')\n",
    "plt.show()"
   ]
  },
  {
   "cell_type": "markdown",
   "id": "990bd6fb",
   "metadata": {
    "papermill": {
     "duration": 0.009931,
     "end_time": "2023-08-13T14:51:53.326740",
     "exception": false,
     "start_time": "2023-08-13T14:51:53.316809",
     "status": "completed"
    },
    "tags": []
   },
   "source": [
    "**Unique Neighboorhood and Neighbourhood_Groups**"
   ]
  },
  {
   "cell_type": "code",
   "execution_count": 7,
   "id": "f8ef8c80",
   "metadata": {
    "execution": {
     "iopub.execute_input": "2023-08-13T14:51:53.346747Z",
     "iopub.status.busy": "2023-08-13T14:51:53.345994Z",
     "iopub.status.idle": "2023-08-13T14:51:53.354087Z",
     "shell.execute_reply": "2023-08-13T14:51:53.353141Z"
    },
    "papermill": {
     "duration": 0.020177,
     "end_time": "2023-08-13T14:51:53.356270",
     "exception": false,
     "start_time": "2023-08-13T14:51:53.336093",
     "status": "completed"
    },
    "tags": []
   },
   "outputs": [
    {
     "name": "stdout",
     "output_type": "stream",
     "text": [
      "Distinct regions:  [nan]\n"
     ]
    }
   ],
   "source": [
    "region = data.loc[:, 'neighbourhood_group']\n",
    "\n",
    "#extracting unique values\n",
    "unique_regions = pd.unique(region)\n",
    "print('Distinct regions: ', unique_regions)"
   ]
  },
  {
   "cell_type": "code",
   "execution_count": 8,
   "id": "fa6e0371",
   "metadata": {
    "execution": {
     "iopub.execute_input": "2023-08-13T14:51:53.375918Z",
     "iopub.status.busy": "2023-08-13T14:51:53.375155Z",
     "iopub.status.idle": "2023-08-13T14:51:53.400393Z",
     "shell.execute_reply": "2023-08-13T14:51:53.399206Z"
    },
    "papermill": {
     "duration": 0.037792,
     "end_time": "2023-08-13T14:51:53.402852",
     "exception": false,
     "start_time": "2023-08-13T14:51:53.365060",
     "status": "completed"
    },
    "tags": []
   },
   "outputs": [
    {
     "data": {
      "text/html": [
       "<div>\n",
       "<style scoped>\n",
       "    .dataframe tbody tr th:only-of-type {\n",
       "        vertical-align: middle;\n",
       "    }\n",
       "\n",
       "    .dataframe tbody tr th {\n",
       "        vertical-align: top;\n",
       "    }\n",
       "\n",
       "    .dataframe thead th {\n",
       "        text-align: right;\n",
       "    }\n",
       "</style>\n",
       "<table border=\"1\" class=\"dataframe\">\n",
       "  <thead>\n",
       "    <tr style=\"text-align: right;\">\n",
       "      <th></th>\n",
       "      <th>id</th>\n",
       "      <th>name</th>\n",
       "      <th>host_id</th>\n",
       "      <th>host_name</th>\n",
       "      <th>neighbourhood_group</th>\n",
       "      <th>neighbourhood</th>\n",
       "      <th>latitude</th>\n",
       "      <th>longitude</th>\n",
       "      <th>room_type</th>\n",
       "      <th>price</th>\n",
       "      <th>minimum_nights</th>\n",
       "      <th>number_of_reviews</th>\n",
       "      <th>last_review</th>\n",
       "      <th>reviews_per_month</th>\n",
       "      <th>calculated_host_listings_count</th>\n",
       "      <th>availability_365</th>\n",
       "    </tr>\n",
       "  </thead>\n",
       "  <tbody>\n",
       "    <tr>\n",
       "      <th>0</th>\n",
       "      <td>4826</td>\n",
       "      <td>The Place</td>\n",
       "      <td>6603</td>\n",
       "      <td>Kaan</td>\n",
       "      <td>Asia South</td>\n",
       "      <td>Uskudar</td>\n",
       "      <td>41.05650</td>\n",
       "      <td>29.05367</td>\n",
       "      <td>Entire home/apt</td>\n",
       "      <td>720</td>\n",
       "      <td>1</td>\n",
       "      <td>1</td>\n",
       "      <td>2009-06-01</td>\n",
       "      <td>0.01</td>\n",
       "      <td>1</td>\n",
       "      <td>365</td>\n",
       "    </tr>\n",
       "    <tr>\n",
       "      <th>1</th>\n",
       "      <td>20815</td>\n",
       "      <td>The Bosphorus from The Comfy Hill</td>\n",
       "      <td>78838</td>\n",
       "      <td>Gülder</td>\n",
       "      <td>Europe South</td>\n",
       "      <td>Besiktas</td>\n",
       "      <td>41.06984</td>\n",
       "      <td>29.04545</td>\n",
       "      <td>Entire home/apt</td>\n",
       "      <td>816</td>\n",
       "      <td>365</td>\n",
       "      <td>41</td>\n",
       "      <td>2018-11-07</td>\n",
       "      <td>0.33</td>\n",
       "      <td>2</td>\n",
       "      <td>279</td>\n",
       "    </tr>\n",
       "    <tr>\n",
       "      <th>2</th>\n",
       "      <td>27271</td>\n",
       "      <td>LOVELY APT. IN PERFECT LOCATION</td>\n",
       "      <td>117026</td>\n",
       "      <td>Mutlu</td>\n",
       "      <td>Europe South</td>\n",
       "      <td>Beyoglu</td>\n",
       "      <td>41.03254</td>\n",
       "      <td>28.98153</td>\n",
       "      <td>Entire home/apt</td>\n",
       "      <td>233</td>\n",
       "      <td>30</td>\n",
       "      <td>13</td>\n",
       "      <td>2018-05-04</td>\n",
       "      <td>0.19</td>\n",
       "      <td>1</td>\n",
       "      <td>289</td>\n",
       "    </tr>\n",
       "    <tr>\n",
       "      <th>3</th>\n",
       "      <td>28277</td>\n",
       "      <td>Duplex Apartment with Terrace</td>\n",
       "      <td>121607</td>\n",
       "      <td>Alen</td>\n",
       "      <td>Europe North</td>\n",
       "      <td>Sisli</td>\n",
       "      <td>41.04471</td>\n",
       "      <td>28.98567</td>\n",
       "      <td>Hotel room</td>\n",
       "      <td>761</td>\n",
       "      <td>3</td>\n",
       "      <td>0</td>\n",
       "      <td>NaN</td>\n",
       "      <td>NaN</td>\n",
       "      <td>19</td>\n",
       "      <td>365</td>\n",
       "    </tr>\n",
       "    <tr>\n",
       "      <th>4</th>\n",
       "      <td>28318</td>\n",
       "      <td>Cosy home overlooking Bosphorus</td>\n",
       "      <td>121721</td>\n",
       "      <td>Aydin</td>\n",
       "      <td>Europe North</td>\n",
       "      <td>Sariyer</td>\n",
       "      <td>41.09048</td>\n",
       "      <td>29.05559</td>\n",
       "      <td>Entire home/apt</td>\n",
       "      <td>823</td>\n",
       "      <td>3</td>\n",
       "      <td>0</td>\n",
       "      <td>NaN</td>\n",
       "      <td>NaN</td>\n",
       "      <td>1</td>\n",
       "      <td>88</td>\n",
       "    </tr>\n",
       "  </tbody>\n",
       "</table>\n",
       "</div>"
      ],
      "text/plain": [
       "      id                               name  host_id host_name  \\\n",
       "0   4826                          The Place     6603      Kaan   \n",
       "1  20815  The Bosphorus from The Comfy Hill    78838    Gülder   \n",
       "2  27271    LOVELY APT. IN PERFECT LOCATION   117026     Mutlu   \n",
       "3  28277      Duplex Apartment with Terrace   121607      Alen   \n",
       "4  28318    Cosy home overlooking Bosphorus   121721     Aydin   \n",
       "\n",
       "  neighbourhood_group neighbourhood  latitude  longitude        room_type  \\\n",
       "0          Asia South       Uskudar  41.05650   29.05367  Entire home/apt   \n",
       "1        Europe South      Besiktas  41.06984   29.04545  Entire home/apt   \n",
       "2        Europe South       Beyoglu  41.03254   28.98153  Entire home/apt   \n",
       "3        Europe North         Sisli  41.04471   28.98567       Hotel room   \n",
       "4        Europe North       Sariyer  41.09048   29.05559  Entire home/apt   \n",
       "\n",
       "   price  minimum_nights  number_of_reviews last_review  reviews_per_month  \\\n",
       "0    720               1                  1  2009-06-01               0.01   \n",
       "1    816             365                 41  2018-11-07               0.33   \n",
       "2    233              30                 13  2018-05-04               0.19   \n",
       "3    761               3                  0         NaN                NaN   \n",
       "4    823               3                  0         NaN                NaN   \n",
       "\n",
       "   calculated_host_listings_count  availability_365  \n",
       "0                               1               365  \n",
       "1                               2               279  \n",
       "2                               1               289  \n",
       "3                              19               365  \n",
       "4                               1                88  "
      ]
     },
     "execution_count": 8,
     "metadata": {},
     "output_type": "execute_result"
    }
   ],
   "source": [
    "#since this data has no major regions(neighbourhood groups), I decided to map out my own\n",
    "\n",
    "asianorth_side = ['Sile', 'Beykoz', 'Cekmekoy']\n",
    "asiasouth_side = ['Kadikoy', 'Uskudar', 'Atasehir', 'Maltepe', 'Umraniye', 'Sultanbeyli', 'Pendik', 'Kartal', 'Adalar', 'Tuzla', 'Sancaktepe']\n",
    "europenorth_side = ['Sisli', 'Sariyer', 'Eyup', 'Sultangazi', 'Catalca', 'Arnavutkoy']\n",
    "europesouth_side = ['Beyoglu', 'Besiktas', 'Fatih', 'Kagithane', 'Bakirkoy', 'Basaksehir', 'Bahcelievler', 'Avcilar', 'Bayrampasa', 'Esenler', 'Kucukcekmece', 'Bagcilar', 'Buyukcekmece', 'Beylikduzu', 'Zeytinburnu', 'Gaziosmanpasa', 'Gungoren', 'Silivri', 'Esenyurt']\n",
    "\n",
    "#create the mapping\n",
    "neighbourhood_to_group = {}\n",
    "for neighbourhood in asianorth_side:\n",
    "    neighbourhood_to_group[neighbourhood] = 'Asia North'\n",
    "for neighbourhood in asiasouth_side:\n",
    "    neighbourhood_to_group[neighbourhood] = 'Asia South'\n",
    "for neighbourhood in europenorth_side:\n",
    "    neighbourhood_to_group[neighbourhood] = 'Europe North'\n",
    "for neighbourhood in europesouth_side:\n",
    "    neighbourhood_to_group[neighbourhood] = 'Europe South'\n",
    "    \n",
    "#lets apply the mapping\n",
    "data['neighbourhood_group'] = data['neighbourhood'].map(neighbourhood_to_group)\n",
    "data.head()"
   ]
  },
  {
   "cell_type": "code",
   "execution_count": 9,
   "id": "2c867420",
   "metadata": {
    "execution": {
     "iopub.execute_input": "2023-08-13T14:51:53.423249Z",
     "iopub.status.busy": "2023-08-13T14:51:53.422907Z",
     "iopub.status.idle": "2023-08-13T14:51:53.432128Z",
     "shell.execute_reply": "2023-08-13T14:51:53.430408Z"
    },
    "papermill": {
     "duration": 0.021955,
     "end_time": "2023-08-13T14:51:53.434328",
     "exception": false,
     "start_time": "2023-08-13T14:51:53.412373",
     "status": "completed"
    },
    "tags": []
   },
   "outputs": [
    {
     "name": "stdout",
     "output_type": "stream",
     "text": [
      "Distinct subregions:  ['Uskudar' 'Besiktas' 'Beyoglu' 'Sisli' 'Sariyer' 'Fatih' 'Kadikoy'\n",
      " 'Kagithane' 'Adalar' 'Maltepe' 'Esenyurt' 'Beykoz' 'Basaksehir'\n",
      " 'Bahcelievler' 'Bagcilar' 'Silivri' 'Beylikduzu' 'Umraniye' 'Sile'\n",
      " 'Cekmekoy' 'Kucukcekmece' 'Sancaktepe' 'Bakirkoy' 'Tuzla' 'Pendik'\n",
      " 'Atasehir' 'Kartal' 'Sultangazi' 'Gaziosmanpasa' 'Buyukcekmece' 'Eyup'\n",
      " 'Zeytinburnu' 'Catalca' 'Avcilar' 'Gungoren' 'Esenler' 'Sultanbeyli'\n",
      " 'Bayrampasa' 'Arnavutkoy']\n"
     ]
    }
   ],
   "source": [
    "subregion = data.loc[:, 'neighbourhood']\n",
    "\n",
    "#extracting unique values\n",
    "unique_subregion = pd.unique(subregion)\n",
    "print('Distinct subregions: ', unique_subregion)"
   ]
  },
  {
   "cell_type": "code",
   "execution_count": 10,
   "id": "3134dd6a",
   "metadata": {
    "execution": {
     "iopub.execute_input": "2023-08-13T14:51:53.454536Z",
     "iopub.status.busy": "2023-08-13T14:51:53.454103Z",
     "iopub.status.idle": "2023-08-13T14:51:53.463073Z",
     "shell.execute_reply": "2023-08-13T14:51:53.461665Z"
    },
    "papermill": {
     "duration": 0.021674,
     "end_time": "2023-08-13T14:51:53.465144",
     "exception": false,
     "start_time": "2023-08-13T14:51:53.443470",
     "status": "completed"
    },
    "tags": []
   },
   "outputs": [
    {
     "name": "stdout",
     "output_type": "stream",
     "text": [
      "Number of subregions:  39\n"
     ]
    }
   ],
   "source": [
    "#counting the unique values\n",
    "unique_subregion_count = data['neighbourhood'].value_counts().count()\n",
    "print('Number of subregions: ', unique_subregion_count)"
   ]
  },
  {
   "cell_type": "markdown",
   "id": "45ff0cda",
   "metadata": {
    "papermill": {
     "duration": 0.008923,
     "end_time": "2023-08-13T14:51:53.483274",
     "exception": false,
     "start_time": "2023-08-13T14:51:53.474351",
     "status": "completed"
    },
    "tags": []
   },
   "source": [
    "**Calculating the percentage properties by region and subregion**"
   ]
  },
  {
   "cell_type": "code",
   "execution_count": 11,
   "id": "39b596b3",
   "metadata": {
    "execution": {
     "iopub.execute_input": "2023-08-13T14:51:53.503811Z",
     "iopub.status.busy": "2023-08-13T14:51:53.503374Z",
     "iopub.status.idle": "2023-08-13T14:51:53.512936Z",
     "shell.execute_reply": "2023-08-13T14:51:53.512239Z"
    },
    "papermill": {
     "duration": 0.022356,
     "end_time": "2023-08-13T14:51:53.514526",
     "exception": false,
     "start_time": "2023-08-13T14:51:53.492170",
     "status": "completed"
    },
    "tags": []
   },
   "outputs": [
    {
     "data": {
      "text/plain": [
       "Europe South    60.77\n",
       "Asia South      20.72\n",
       "Europe North    17.14\n",
       "Asia North       1.37\n",
       "Name: neighbourhood_group, dtype: float64"
      ]
     },
     "execution_count": 11,
     "metadata": {},
     "output_type": "execute_result"
    }
   ],
   "source": [
    "percent_by_region = round(data['neighbourhood_group'].value_counts(normalize=True)*100, 2)\n",
    "percent_by_region"
   ]
  },
  {
   "cell_type": "code",
   "execution_count": 12,
   "id": "60c89c4a",
   "metadata": {
    "execution": {
     "iopub.execute_input": "2023-08-13T14:51:53.535300Z",
     "iopub.status.busy": "2023-08-13T14:51:53.534651Z",
     "iopub.status.idle": "2023-08-13T14:51:53.548417Z",
     "shell.execute_reply": "2023-08-13T14:51:53.547515Z"
    },
    "papermill": {
     "duration": 0.026831,
     "end_time": "2023-08-13T14:51:53.550790",
     "exception": false,
     "start_time": "2023-08-13T14:51:53.523959",
     "status": "completed"
    },
    "tags": []
   },
   "outputs": [
    {
     "data": {
      "text/plain": [
       "Beyoglu          26.85\n",
       "Sisli            14.12\n",
       "Fatih            12.36\n",
       "Kadikoy           9.82\n",
       "Besiktas          7.37\n",
       "Uskudar           3.35\n",
       "Kagithane         2.80\n",
       "Esenyurt          2.76\n",
       "Atasehir          1.74\n",
       "Maltepe           1.60\n",
       "Sariyer           1.54\n",
       "Bakirkoy          1.25\n",
       "Basaksehir        1.18\n",
       "Eyup              1.01\n",
       "Bahcelievler      1.00\n",
       "Umraniye          0.96\n",
       "Avcilar           0.91\n",
       "Pendik            0.91\n",
       "Kucukcekmece      0.84\n",
       "Kartal            0.83\n",
       "Adalar            0.75\n",
       "Bagcilar          0.75\n",
       "Sile              0.64\n",
       "Buyukcekmece      0.58\n",
       "Beylikduzu        0.52\n",
       "Beykoz            0.50\n",
       "Zeytinburnu       0.47\n",
       "Tuzla             0.44\n",
       "Gaziosmanpasa     0.36\n",
       "Gungoren          0.30\n",
       "Arnavutkoy        0.30\n",
       "Silivri           0.23\n",
       "Cekmekoy          0.23\n",
       "Sancaktepe        0.22\n",
       "Bayrampasa        0.14\n",
       "Sultangazi        0.10\n",
       "Esenler           0.09\n",
       "Sultanbeyli       0.09\n",
       "Catalca           0.08\n",
       "Name: neighbourhood, dtype: float64"
      ]
     },
     "execution_count": 12,
     "metadata": {},
     "output_type": "execute_result"
    }
   ],
   "source": [
    "percent_by_subregion = round(data['neighbourhood'].value_counts(normalize=True)*100, 2)\n",
    "percent_by_subregion"
   ]
  },
  {
   "cell_type": "markdown",
   "id": "1e7bc220",
   "metadata": {
    "papermill": {
     "duration": 0.008993,
     "end_time": "2023-08-13T14:51:53.569319",
     "exception": false,
     "start_time": "2023-08-13T14:51:53.560326",
     "status": "completed"
    },
    "tags": []
   },
   "source": [
    "**Property Category**"
   ]
  },
  {
   "cell_type": "code",
   "execution_count": 13,
   "id": "839f2249",
   "metadata": {
    "execution": {
     "iopub.execute_input": "2023-08-13T14:51:53.589994Z",
     "iopub.status.busy": "2023-08-13T14:51:53.589365Z",
     "iopub.status.idle": "2023-08-13T14:51:53.597619Z",
     "shell.execute_reply": "2023-08-13T14:51:53.595828Z"
    },
    "papermill": {
     "duration": 0.020898,
     "end_time": "2023-08-13T14:51:53.599629",
     "exception": false,
     "start_time": "2023-08-13T14:51:53.578731",
     "status": "completed"
    },
    "tags": []
   },
   "outputs": [
    {
     "name": "stdout",
     "output_type": "stream",
     "text": [
      "The property categories registered in Istanbul are:  ['Entire home/apt' 'Hotel room' 'Private room' 'Shared room']\n"
     ]
    }
   ],
   "source": [
    "roomcategory = pd.unique(data.room_type)\n",
    "print('The property categories registered in Istanbul are: ', roomcategory)"
   ]
  },
  {
   "cell_type": "code",
   "execution_count": 14,
   "id": "11f3ef4c",
   "metadata": {
    "execution": {
     "iopub.execute_input": "2023-08-13T14:51:53.621504Z",
     "iopub.status.busy": "2023-08-13T14:51:53.621034Z",
     "iopub.status.idle": "2023-08-13T14:51:53.632255Z",
     "shell.execute_reply": "2023-08-13T14:51:53.630512Z"
    },
    "papermill": {
     "duration": 0.026158,
     "end_time": "2023-08-13T14:51:53.635112",
     "exception": false,
     "start_time": "2023-08-13T14:51:53.608954",
     "status": "completed"
    },
    "tags": []
   },
   "outputs": [
    {
     "data": {
      "text/plain": [
       "Entire home/apt    49.93\n",
       "Private room       43.20\n",
       "Hotel room          4.02\n",
       "Shared room         2.84\n",
       "Name: room_type, dtype: float64"
      ]
     },
     "execution_count": 14,
     "metadata": {},
     "output_type": "execute_result"
    }
   ],
   "source": [
    "percent_category = round(data['room_type'].value_counts(normalize=True)*100, 2)\n",
    "percent_category"
   ]
  },
  {
   "cell_type": "code",
   "execution_count": 15,
   "id": "0d42641a",
   "metadata": {
    "execution": {
     "iopub.execute_input": "2023-08-13T14:51:53.657563Z",
     "iopub.status.busy": "2023-08-13T14:51:53.656506Z",
     "iopub.status.idle": "2023-08-13T14:51:55.465302Z",
     "shell.execute_reply": "2023-08-13T14:51:55.463344Z"
    },
    "papermill": {
     "duration": 1.823353,
     "end_time": "2023-08-13T14:51:55.468236",
     "exception": false,
     "start_time": "2023-08-13T14:51:53.644883",
     "status": "completed"
    },
    "tags": []
   },
   "outputs": [
    {
     "data": {
      "text/html": [
       "        <script type=\"text/javascript\">\n",
       "        window.PlotlyConfig = {MathJaxConfig: 'local'};\n",
       "        if (window.MathJax && window.MathJax.Hub && window.MathJax.Hub.Config) {window.MathJax.Hub.Config({SVG: {font: \"STIX-Web\"}});}\n",
       "        if (typeof require !== 'undefined') {\n",
       "        require.undef(\"plotly\");\n",
       "        requirejs.config({\n",
       "            paths: {\n",
       "                'plotly': ['https://cdn.plot.ly/plotly-2.24.1.min']\n",
       "            }\n",
       "        });\n",
       "        require(['plotly'], function(Plotly) {\n",
       "            window._Plotly = Plotly;\n",
       "        });\n",
       "        }\n",
       "        </script>\n",
       "        "
      ]
     },
     "metadata": {},
     "output_type": "display_data"
    },
    {
     "data": {
      "text/html": [
       "<div>                            <div id=\"797267f7-639c-4bf3-8bde-482efb5fa933\" class=\"plotly-graph-div\" style=\"height:525px; width:100%;\"></div>            <script type=\"text/javascript\">                require([\"plotly\"], function(Plotly) {                    window.PLOTLYENV=window.PLOTLYENV || {};                                    if (document.getElementById(\"797267f7-639c-4bf3-8bde-482efb5fa933\")) {                    Plotly.newPlot(                        \"797267f7-639c-4bf3-8bde-482efb5fa933\",                        [{\"domain\":{\"x\":[0.0,1.0],\"y\":[0.0,1.0]},\"hovertemplate\":\"label=%{label}\\u003cbr\\u003evalue=%{value}\\u003cextra\\u003e\\u003c\\u002fextra\\u003e\",\"labels\":[\"Entire home\\u002fapt\",\"Hotel room\",\"Private room\",\"Shared room\"],\"legendgroup\":\"\",\"name\":\"\",\"showlegend\":true,\"values\":[49.93,43.2,4.02,2.84],\"type\":\"pie\"}],                        {\"template\":{\"data\":{\"histogram2dcontour\":[{\"type\":\"histogram2dcontour\",\"colorbar\":{\"outlinewidth\":0,\"ticks\":\"\"},\"colorscale\":[[0.0,\"#0d0887\"],[0.1111111111111111,\"#46039f\"],[0.2222222222222222,\"#7201a8\"],[0.3333333333333333,\"#9c179e\"],[0.4444444444444444,\"#bd3786\"],[0.5555555555555556,\"#d8576b\"],[0.6666666666666666,\"#ed7953\"],[0.7777777777777778,\"#fb9f3a\"],[0.8888888888888888,\"#fdca26\"],[1.0,\"#f0f921\"]]}],\"choropleth\":[{\"type\":\"choropleth\",\"colorbar\":{\"outlinewidth\":0,\"ticks\":\"\"}}],\"histogram2d\":[{\"type\":\"histogram2d\",\"colorbar\":{\"outlinewidth\":0,\"ticks\":\"\"},\"colorscale\":[[0.0,\"#0d0887\"],[0.1111111111111111,\"#46039f\"],[0.2222222222222222,\"#7201a8\"],[0.3333333333333333,\"#9c179e\"],[0.4444444444444444,\"#bd3786\"],[0.5555555555555556,\"#d8576b\"],[0.6666666666666666,\"#ed7953\"],[0.7777777777777778,\"#fb9f3a\"],[0.8888888888888888,\"#fdca26\"],[1.0,\"#f0f921\"]]}],\"heatmap\":[{\"type\":\"heatmap\",\"colorbar\":{\"outlinewidth\":0,\"ticks\":\"\"},\"colorscale\":[[0.0,\"#0d0887\"],[0.1111111111111111,\"#46039f\"],[0.2222222222222222,\"#7201a8\"],[0.3333333333333333,\"#9c179e\"],[0.4444444444444444,\"#bd3786\"],[0.5555555555555556,\"#d8576b\"],[0.6666666666666666,\"#ed7953\"],[0.7777777777777778,\"#fb9f3a\"],[0.8888888888888888,\"#fdca26\"],[1.0,\"#f0f921\"]]}],\"heatmapgl\":[{\"type\":\"heatmapgl\",\"colorbar\":{\"outlinewidth\":0,\"ticks\":\"\"},\"colorscale\":[[0.0,\"#0d0887\"],[0.1111111111111111,\"#46039f\"],[0.2222222222222222,\"#7201a8\"],[0.3333333333333333,\"#9c179e\"],[0.4444444444444444,\"#bd3786\"],[0.5555555555555556,\"#d8576b\"],[0.6666666666666666,\"#ed7953\"],[0.7777777777777778,\"#fb9f3a\"],[0.8888888888888888,\"#fdca26\"],[1.0,\"#f0f921\"]]}],\"contourcarpet\":[{\"type\":\"contourcarpet\",\"colorbar\":{\"outlinewidth\":0,\"ticks\":\"\"}}],\"contour\":[{\"type\":\"contour\",\"colorbar\":{\"outlinewidth\":0,\"ticks\":\"\"},\"colorscale\":[[0.0,\"#0d0887\"],[0.1111111111111111,\"#46039f\"],[0.2222222222222222,\"#7201a8\"],[0.3333333333333333,\"#9c179e\"],[0.4444444444444444,\"#bd3786\"],[0.5555555555555556,\"#d8576b\"],[0.6666666666666666,\"#ed7953\"],[0.7777777777777778,\"#fb9f3a\"],[0.8888888888888888,\"#fdca26\"],[1.0,\"#f0f921\"]]}],\"surface\":[{\"type\":\"surface\",\"colorbar\":{\"outlinewidth\":0,\"ticks\":\"\"},\"colorscale\":[[0.0,\"#0d0887\"],[0.1111111111111111,\"#46039f\"],[0.2222222222222222,\"#7201a8\"],[0.3333333333333333,\"#9c179e\"],[0.4444444444444444,\"#bd3786\"],[0.5555555555555556,\"#d8576b\"],[0.6666666666666666,\"#ed7953\"],[0.7777777777777778,\"#fb9f3a\"],[0.8888888888888888,\"#fdca26\"],[1.0,\"#f0f921\"]]}],\"mesh3d\":[{\"type\":\"mesh3d\",\"colorbar\":{\"outlinewidth\":0,\"ticks\":\"\"}}],\"scatter\":[{\"fillpattern\":{\"fillmode\":\"overlay\",\"size\":10,\"solidity\":0.2},\"type\":\"scatter\"}],\"parcoords\":[{\"type\":\"parcoords\",\"line\":{\"colorbar\":{\"outlinewidth\":0,\"ticks\":\"\"}}}],\"scatterpolargl\":[{\"type\":\"scatterpolargl\",\"marker\":{\"colorbar\":{\"outlinewidth\":0,\"ticks\":\"\"}}}],\"bar\":[{\"error_x\":{\"color\":\"#2a3f5f\"},\"error_y\":{\"color\":\"#2a3f5f\"},\"marker\":{\"line\":{\"color\":\"#E5ECF6\",\"width\":0.5},\"pattern\":{\"fillmode\":\"overlay\",\"size\":10,\"solidity\":0.2}},\"type\":\"bar\"}],\"scattergeo\":[{\"type\":\"scattergeo\",\"marker\":{\"colorbar\":{\"outlinewidth\":0,\"ticks\":\"\"}}}],\"scatterpolar\":[{\"type\":\"scatterpolar\",\"marker\":{\"colorbar\":{\"outlinewidth\":0,\"ticks\":\"\"}}}],\"histogram\":[{\"marker\":{\"pattern\":{\"fillmode\":\"overlay\",\"size\":10,\"solidity\":0.2}},\"type\":\"histogram\"}],\"scattergl\":[{\"type\":\"scattergl\",\"marker\":{\"colorbar\":{\"outlinewidth\":0,\"ticks\":\"\"}}}],\"scatter3d\":[{\"type\":\"scatter3d\",\"line\":{\"colorbar\":{\"outlinewidth\":0,\"ticks\":\"\"}},\"marker\":{\"colorbar\":{\"outlinewidth\":0,\"ticks\":\"\"}}}],\"scattermapbox\":[{\"type\":\"scattermapbox\",\"marker\":{\"colorbar\":{\"outlinewidth\":0,\"ticks\":\"\"}}}],\"scatterternary\":[{\"type\":\"scatterternary\",\"marker\":{\"colorbar\":{\"outlinewidth\":0,\"ticks\":\"\"}}}],\"scattercarpet\":[{\"type\":\"scattercarpet\",\"marker\":{\"colorbar\":{\"outlinewidth\":0,\"ticks\":\"\"}}}],\"carpet\":[{\"aaxis\":{\"endlinecolor\":\"#2a3f5f\",\"gridcolor\":\"white\",\"linecolor\":\"white\",\"minorgridcolor\":\"white\",\"startlinecolor\":\"#2a3f5f\"},\"baxis\":{\"endlinecolor\":\"#2a3f5f\",\"gridcolor\":\"white\",\"linecolor\":\"white\",\"minorgridcolor\":\"white\",\"startlinecolor\":\"#2a3f5f\"},\"type\":\"carpet\"}],\"table\":[{\"cells\":{\"fill\":{\"color\":\"#EBF0F8\"},\"line\":{\"color\":\"white\"}},\"header\":{\"fill\":{\"color\":\"#C8D4E3\"},\"line\":{\"color\":\"white\"}},\"type\":\"table\"}],\"barpolar\":[{\"marker\":{\"line\":{\"color\":\"#E5ECF6\",\"width\":0.5},\"pattern\":{\"fillmode\":\"overlay\",\"size\":10,\"solidity\":0.2}},\"type\":\"barpolar\"}],\"pie\":[{\"automargin\":true,\"type\":\"pie\"}]},\"layout\":{\"autotypenumbers\":\"strict\",\"colorway\":[\"#636efa\",\"#EF553B\",\"#00cc96\",\"#ab63fa\",\"#FFA15A\",\"#19d3f3\",\"#FF6692\",\"#B6E880\",\"#FF97FF\",\"#FECB52\"],\"font\":{\"color\":\"#2a3f5f\"},\"hovermode\":\"closest\",\"hoverlabel\":{\"align\":\"left\"},\"paper_bgcolor\":\"white\",\"plot_bgcolor\":\"#E5ECF6\",\"polar\":{\"bgcolor\":\"#E5ECF6\",\"angularaxis\":{\"gridcolor\":\"white\",\"linecolor\":\"white\",\"ticks\":\"\"},\"radialaxis\":{\"gridcolor\":\"white\",\"linecolor\":\"white\",\"ticks\":\"\"}},\"ternary\":{\"bgcolor\":\"#E5ECF6\",\"aaxis\":{\"gridcolor\":\"white\",\"linecolor\":\"white\",\"ticks\":\"\"},\"baxis\":{\"gridcolor\":\"white\",\"linecolor\":\"white\",\"ticks\":\"\"},\"caxis\":{\"gridcolor\":\"white\",\"linecolor\":\"white\",\"ticks\":\"\"}},\"coloraxis\":{\"colorbar\":{\"outlinewidth\":0,\"ticks\":\"\"}},\"colorscale\":{\"sequential\":[[0.0,\"#0d0887\"],[0.1111111111111111,\"#46039f\"],[0.2222222222222222,\"#7201a8\"],[0.3333333333333333,\"#9c179e\"],[0.4444444444444444,\"#bd3786\"],[0.5555555555555556,\"#d8576b\"],[0.6666666666666666,\"#ed7953\"],[0.7777777777777778,\"#fb9f3a\"],[0.8888888888888888,\"#fdca26\"],[1.0,\"#f0f921\"]],\"sequentialminus\":[[0.0,\"#0d0887\"],[0.1111111111111111,\"#46039f\"],[0.2222222222222222,\"#7201a8\"],[0.3333333333333333,\"#9c179e\"],[0.4444444444444444,\"#bd3786\"],[0.5555555555555556,\"#d8576b\"],[0.6666666666666666,\"#ed7953\"],[0.7777777777777778,\"#fb9f3a\"],[0.8888888888888888,\"#fdca26\"],[1.0,\"#f0f921\"]],\"diverging\":[[0,\"#8e0152\"],[0.1,\"#c51b7d\"],[0.2,\"#de77ae\"],[0.3,\"#f1b6da\"],[0.4,\"#fde0ef\"],[0.5,\"#f7f7f7\"],[0.6,\"#e6f5d0\"],[0.7,\"#b8e186\"],[0.8,\"#7fbc41\"],[0.9,\"#4d9221\"],[1,\"#276419\"]]},\"xaxis\":{\"gridcolor\":\"white\",\"linecolor\":\"white\",\"ticks\":\"\",\"title\":{\"standoff\":15},\"zerolinecolor\":\"white\",\"automargin\":true,\"zerolinewidth\":2},\"yaxis\":{\"gridcolor\":\"white\",\"linecolor\":\"white\",\"ticks\":\"\",\"title\":{\"standoff\":15},\"zerolinecolor\":\"white\",\"automargin\":true,\"zerolinewidth\":2},\"scene\":{\"xaxis\":{\"backgroundcolor\":\"#E5ECF6\",\"gridcolor\":\"white\",\"linecolor\":\"white\",\"showbackground\":true,\"ticks\":\"\",\"zerolinecolor\":\"white\",\"gridwidth\":2},\"yaxis\":{\"backgroundcolor\":\"#E5ECF6\",\"gridcolor\":\"white\",\"linecolor\":\"white\",\"showbackground\":true,\"ticks\":\"\",\"zerolinecolor\":\"white\",\"gridwidth\":2},\"zaxis\":{\"backgroundcolor\":\"#E5ECF6\",\"gridcolor\":\"white\",\"linecolor\":\"white\",\"showbackground\":true,\"ticks\":\"\",\"zerolinecolor\":\"white\",\"gridwidth\":2}},\"shapedefaults\":{\"line\":{\"color\":\"#2a3f5f\"}},\"annotationdefaults\":{\"arrowcolor\":\"#2a3f5f\",\"arrowhead\":0,\"arrowwidth\":1},\"geo\":{\"bgcolor\":\"white\",\"landcolor\":\"#E5ECF6\",\"subunitcolor\":\"white\",\"showland\":true,\"showlakes\":true,\"lakecolor\":\"white\"},\"title\":{\"x\":0.05},\"mapbox\":{\"style\":\"light\"}}},\"legend\":{\"tracegroupgap\":0},\"margin\":{\"t\":60},\"title\":{\"text\":\"Room Category Distribution\"},\"colorway\":[\"#6f9167\",\"#035553\",\"#0084b4\",\"#70b5d4\"]},                        {\"responsive\": true}                    ).then(function(){\n",
       "                            \n",
       "var gd = document.getElementById('797267f7-639c-4bf3-8bde-482efb5fa933');\n",
       "var x = new MutationObserver(function (mutations, observer) {{\n",
       "        var display = window.getComputedStyle(gd).display;\n",
       "        if (!display || display === 'none') {{\n",
       "            console.log([gd, 'removed!']);\n",
       "            Plotly.purge(gd);\n",
       "            observer.disconnect();\n",
       "        }}\n",
       "}});\n",
       "\n",
       "// Listen for the removal of the full notebook cells\n",
       "var notebookContainer = gd.closest('#notebook-container');\n",
       "if (notebookContainer) {{\n",
       "    x.observe(notebookContainer, {childList: true});\n",
       "}}\n",
       "\n",
       "// Listen for the clearing of the current output cell\n",
       "var outputEl = gd.closest('.output');\n",
       "if (outputEl) {{\n",
       "    x.observe(outputEl, {childList: true});\n",
       "}}\n",
       "\n",
       "                        })                };                });            </script>        </div>"
      ]
     },
     "metadata": {},
     "output_type": "display_data"
    }
   ],
   "source": [
    "fig = px.pie(names=roomcategory, values=percent_category)\n",
    "fig.update_layout(\n",
    "    title=\"Room Category Distribution\",\n",
    "    colorway=[\"#6f9167\", \"#035553\", \"#0084b4\", \"#70b5d4\"]  \n",
    ")\n",
    "fig"
   ]
  },
  {
   "cell_type": "markdown",
   "id": "5229fcd4",
   "metadata": {
    "papermill": {
     "duration": 0.009385,
     "end_time": "2023-08-13T14:51:55.488643",
     "exception": false,
     "start_time": "2023-08-13T14:51:55.479258",
     "status": "completed"
    },
    "tags": []
   },
   "source": [
    "**Number of reviews**"
   ]
  },
  {
   "cell_type": "code",
   "execution_count": 16,
   "id": "eed99195",
   "metadata": {
    "execution": {
     "iopub.execute_input": "2023-08-13T14:51:55.509756Z",
     "iopub.status.busy": "2023-08-13T14:51:55.509390Z",
     "iopub.status.idle": "2023-08-13T14:51:55.518961Z",
     "shell.execute_reply": "2023-08-13T14:51:55.517606Z"
    },
    "papermill": {
     "duration": 0.022923,
     "end_time": "2023-08-13T14:51:55.521228",
     "exception": false,
     "start_time": "2023-08-13T14:51:55.498305",
     "status": "completed"
    },
    "tags": []
   },
   "outputs": [
    {
     "name": "stdout",
     "output_type": "stream",
     "text": [
      "The maximum number of reviews for a single property is: 345\n",
      "The minimum number of reviews for a single property is: 0\n",
      "The average number of reviews for a single property is: 7\n",
      "The standard deviation of the number of reviews for a single property is: 23\n"
     ]
    }
   ],
   "source": [
    "reviews = data.loc[: , 'number_of_reviews']\n",
    "\n",
    "#maximum number of reviews for a single property\n",
    "maxreviews = np.max(reviews)\n",
    "print('The maximum number of reviews for a single property is:', maxreviews)\n",
    "\n",
    "#minimum number of reviews for a single property\n",
    "minreviews = np.min(reviews)\n",
    "print('The minimum number of reviews for a single property is:', minreviews)\n",
    "\n",
    "#average number of reviews for a single property\n",
    "avgreviews = np.mean(reviews)\n",
    "print('The average number of reviews for a single property is:', int(avgreviews))\n",
    "\n",
    "#standard deviation of reviews for a single property\n",
    "stdreviews = np.std(reviews)\n",
    "print('The standard deviation of the number of reviews for a single property is:', int(stdreviews))"
   ]
  },
  {
   "cell_type": "code",
   "execution_count": 17,
   "id": "ee9329fe",
   "metadata": {
    "execution": {
     "iopub.execute_input": "2023-08-13T14:51:55.542612Z",
     "iopub.status.busy": "2023-08-13T14:51:55.542170Z",
     "iopub.status.idle": "2023-08-13T14:51:55.831970Z",
     "shell.execute_reply": "2023-08-13T14:51:55.830576Z"
    },
    "papermill": {
     "duration": 0.303565,
     "end_time": "2023-08-13T14:51:55.834779",
     "exception": false,
     "start_time": "2023-08-13T14:51:55.531214",
     "status": "completed"
    },
    "tags": []
   },
   "outputs": [
    {
     "data": {
      "text/plain": [
       "Text(0, 0.5, 'Frequency')"
      ]
     },
     "execution_count": 17,
     "metadata": {},
     "output_type": "execute_result"
    },
    {
     "data": {
      "image/png": "[encoded data removed]",
      "text/plain": [
       "<Figure size 1000x600 with 1 Axes>"
      ]
     },
     "metadata": {},
     "output_type": "display_data"
    }
   ],
   "source": [
    "plt.figure(figsize=(10, 6))\n",
    "sns.histplot(data[data['number_of_reviews'] <= 50], x='number_of_reviews', binwidth=5, kde=False, color='#035553')\n",
    "plt.title('Distribution of Number of Reviews')\n",
    "plt.xlabel('Number of Reviews')\n",
    "plt.ylabel('Frequency')"
   ]
  },
  {
   "cell_type": "markdown",
   "id": "c76f783c",
   "metadata": {
    "papermill": {
     "duration": 0.01011,
     "end_time": "2023-08-13T14:51:55.855417",
     "exception": false,
     "start_time": "2023-08-13T14:51:55.845307",
     "status": "completed"
    },
    "tags": []
   },
   "source": [
    "**Minimum Nights**"
   ]
  },
  {
   "cell_type": "code",
   "execution_count": 18,
   "id": "1755d962",
   "metadata": {
    "execution": {
     "iopub.execute_input": "2023-08-13T14:51:55.877693Z",
     "iopub.status.busy": "2023-08-13T14:51:55.877085Z",
     "iopub.status.idle": "2023-08-13T14:51:55.886502Z",
     "shell.execute_reply": "2023-08-13T14:51:55.885088Z"
    },
    "papermill": {
     "duration": 0.023342,
     "end_time": "2023-08-13T14:51:55.889005",
     "exception": false,
     "start_time": "2023-08-13T14:51:55.865663",
     "status": "completed"
    },
    "tags": []
   },
   "outputs": [
    {
     "name": "stdout",
     "output_type": "stream",
     "text": [
      "The maximum number of minimum nights for a single property is: 1125\n",
      "The minimum number of minimum nights for a single property is: 1\n",
      "The average number of minimum nights for a single property is: 4\n",
      "The standard deviation of the number of minimum nights for a single property is: 27\n"
     ]
    }
   ],
   "source": [
    "minimum_nights = data.loc[:, 'minimum_nights']\n",
    "\n",
    "max_minimum_nights = np.max(minimum_nights)\n",
    "print('The maximum number of minimum nights for a single property is:', int(max_minimum_nights))\n",
    "\n",
    "min_minimum_nights = np.min(minimum_nights)\n",
    "print('The minimum number of minimum nights for a single property is:', int(min_minimum_nights))\n",
    "\n",
    "average_minimum_nights  = np.mean(minimum_nights)\n",
    "print('The average number of minimum nights for a single property is:', int(average_minimum_nights))\n",
    "\n",
    "std_dev_minimum_nights  = np.std(minimum_nights)\n",
    "print('The standard deviation of the number of minimum nights for a single property is:', int(std_dev_minimum_nights))"
   ]
  },
  {
   "cell_type": "code",
   "execution_count": 19,
   "id": "934f7265",
   "metadata": {
    "execution": {
     "iopub.execute_input": "2023-08-13T14:51:55.913015Z",
     "iopub.status.busy": "2023-08-13T14:51:55.912617Z",
     "iopub.status.idle": "2023-08-13T14:51:56.327692Z",
     "shell.execute_reply": "2023-08-13T14:51:56.326746Z"
    },
    "papermill": {
     "duration": 0.429908,
     "end_time": "2023-08-13T14:51:56.329560",
     "exception": false,
     "start_time": "2023-08-13T14:51:55.899652",
     "status": "completed"
    },
    "tags": []
   },
   "outputs": [
    {
     "data": {
      "image/png": "[encoded data removed]",
      "text/plain": [
       "<Figure size 1000x600 with 1 Axes>"
      ]
     },
     "metadata": {},
     "output_type": "display_data"
    }
   ],
   "source": [
    "# Seaborn histogram with x-axis limit, binwidth of 1, and x-ticks for minimum nights\n",
    "plt.figure(figsize=(10, 6))\n",
    "sns.histplot(data[data['minimum_nights'] <= 30], x='minimum_nights', binwidth=1, kde=False, color='#035553')\n",
    "plt.title('Distribution of Minimum Nights')\n",
    "plt.xlabel('Minimum Nights')\n",
    "plt.ylabel('Frequency')\n",
    "plt.show()"
   ]
  },
  {
   "cell_type": "markdown",
   "id": "3f076194",
   "metadata": {
    "papermill": {
     "duration": 0.010138,
     "end_time": "2023-08-13T14:51:56.350628",
     "exception": false,
     "start_time": "2023-08-13T14:51:56.340490",
     "status": "completed"
    },
    "tags": []
   },
   "source": [
    "**Properties distribution**"
   ]
  },
  {
   "cell_type": "code",
   "execution_count": 20,
   "id": "9d00fdf5",
   "metadata": {
    "execution": {
     "iopub.execute_input": "2023-08-13T14:51:56.375906Z",
     "iopub.status.busy": "2023-08-13T14:51:56.374898Z",
     "iopub.status.idle": "2023-08-13T14:51:56.384684Z",
     "shell.execute_reply": "2023-08-13T14:51:56.382940Z"
    },
    "papermill": {
     "duration": 0.02477,
     "end_time": "2023-08-13T14:51:56.387124",
     "exception": false,
     "start_time": "2023-08-13T14:51:56.362354",
     "status": "completed"
    },
    "tags": []
   },
   "outputs": [
    {
     "name": "stdout",
     "output_type": "stream",
     "text": [
      "The average number of properties per host is: 5\n",
      "The standard deviation of properties per host is: 16\n",
      "The median number of properties per host is: 2\n",
      "The maximum number of properties per host is: 176\n",
      "The minimum number of properties per host is: 1\n"
     ]
    }
   ],
   "source": [
    "properties_hosts = data.loc[:, 'calculated_host_listings_count']\n",
    "\n",
    "average_properties_hosts = np.mean(properties_hosts)\n",
    "print('The average number of properties per host is:', int(average_properties_hosts))\n",
    "\n",
    "std_dev_properties_hosts = np.std(properties_hosts)\n",
    "print('The standard deviation of properties per host is:', int(std_dev_properties_hosts))\n",
    "\n",
    "median_properties_hosts = np.median(properties_hosts)\n",
    "print('The median number of properties per host is:', int(median_properties_hosts))\n",
    "\n",
    "max_properties_hosts = np.max(properties_hosts)\n",
    "print('The maximum number of properties per host is:', int(max_properties_hosts))\n",
    "\n",
    "min_properties_hosts = np.min(properties_hosts)\n",
    "print('The minimum number of properties per host is:', int(min_properties_hosts))\n"
   ]
  },
  {
   "cell_type": "code",
   "execution_count": 21,
   "id": "e9fce1a3",
   "metadata": {
    "execution": {
     "iopub.execute_input": "2023-08-13T14:51:56.411971Z",
     "iopub.status.busy": "2023-08-13T14:51:56.410985Z",
     "iopub.status.idle": "2023-08-13T14:51:56.646537Z",
     "shell.execute_reply": "2023-08-13T14:51:56.645468Z"
    },
    "papermill": {
     "duration": 0.250564,
     "end_time": "2023-08-13T14:51:56.648572",
     "exception": false,
     "start_time": "2023-08-13T14:51:56.398008",
     "status": "completed"
    },
    "tags": []
   },
   "outputs": [
    {
     "data": {
      "image/png": "[encoded data removed]",
      "text/plain": [
       "<Figure size 1000x600 with 1 Axes>"
      ]
     },
     "metadata": {},
     "output_type": "display_data"
    }
   ],
   "source": [
    "# Seaborn histogram for hosts with up to 10 properties with data labels\n",
    "plt.figure(figsize=(10, 6))\n",
    "ax = sns.histplot(data[data['calculated_host_listings_count'] <= 25], x='calculated_host_listings_count', binwidth=1, kde=False, color='#035553')\n",
    "plt.title('Distribution of Properties per Host')\n",
    "plt.xlabel('Number of Properties')\n",
    "plt.ylabel('Frequency')\n",
    "plt.show()"
   ]
  },
  {
   "cell_type": "markdown",
   "id": "3bd5cf49",
   "metadata": {
    "papermill": {
     "duration": 0.010857,
     "end_time": "2023-08-13T14:51:56.670720",
     "exception": false,
     "start_time": "2023-08-13T14:51:56.659863",
     "status": "completed"
    },
    "tags": []
   },
   "source": [
    "**Maximum Rental Prices by neighbourhood**"
   ]
  },
  {
   "cell_type": "code",
   "execution_count": 22,
   "id": "af7e25ab",
   "metadata": {
    "execution": {
     "iopub.execute_input": "2023-08-13T14:51:56.693942Z",
     "iopub.status.busy": "2023-08-13T14:51:56.693558Z",
     "iopub.status.idle": "2023-08-13T14:51:56.898830Z",
     "shell.execute_reply": "2023-08-13T14:51:56.897638Z"
    },
    "papermill": {
     "duration": 0.220031,
     "end_time": "2023-08-13T14:51:56.901528",
     "exception": false,
     "start_time": "2023-08-13T14:51:56.681497",
     "status": "completed"
    },
    "tags": []
   },
   "outputs": [
    {
     "data": {
      "image/png": "[encoded data removed]",
      "text/plain": [
       "<Figure size 1000x600 with 1 Axes>"
      ]
     },
     "metadata": {},
     "output_type": "display_data"
    }
   ],
   "source": [
    "max_region_price = data.loc[:,['neighbourhood_group', 'price']].groupby('neighbourhood_group').max()\n",
    "\n",
    "#convert values to integers\n",
    "max_region_price = max_region_price.astype(int)\n",
    "\n",
    "#reset the index to make the 'neighbourhood_group' a column\n",
    "max_region_price.reset_index(inplace=True)\n",
    "\n",
    "#rename the columns for better understanding\n",
    "max_region_price.columns = ['Regions', 'Maximum Rental']\n",
    "\n",
    "#plotting figure\n",
    "plt.figure(figsize=(10, 6))\n",
    "ax = sns.barplot(x='Regions', y='Maximum Rental', data=max_region_price, palette='Greens_d')\n",
    "plt.title('Most Expensive Rentals by Region in Istanbul')\n",
    "plt.xlabel('Regions')\n",
    "plt.ylabel('Maximum Rental')\n",
    "plt.show()"
   ]
  },
  {
   "cell_type": "code",
   "execution_count": 23,
   "id": "e77b9e0b",
   "metadata": {
    "execution": {
     "iopub.execute_input": "2023-08-13T14:51:56.926539Z",
     "iopub.status.busy": "2023-08-13T14:51:56.926106Z",
     "iopub.status.idle": "2023-08-13T14:51:57.302267Z",
     "shell.execute_reply": "2023-08-13T14:51:57.300807Z"
    },
    "papermill": {
     "duration": 0.391766,
     "end_time": "2023-08-13T14:51:57.305033",
     "exception": false,
     "start_time": "2023-08-13T14:51:56.913267",
     "status": "completed"
    },
    "tags": []
   },
   "outputs": [
    {
     "data": {
      "image/png": "[encoded data removed]",
      "text/plain": [
       "<Figure size 1000x600 with 1 Axes>"
      ]
     },
     "metadata": {},
     "output_type": "display_data"
    }
   ],
   "source": [
    "max_subregion_price = data.loc[:,['neighbourhood', 'price']].groupby('neighbourhood').max()\n",
    "\n",
    "#convert values to integers\n",
    "max_subregion_price = max_subregion_price.astype(int)\n",
    "\n",
    "#reset the index to make the 'neighbourhood' a column\n",
    "max_subregion_price.reset_index(inplace=True)\n",
    "\n",
    "#rename the columns for better understanding\n",
    "max_subregion_price.columns = ['Subregions', 'Maximum Rental']\n",
    "\n",
    "palette = {'Asia North': 'blue', 'Asia South': 'green', 'Europe North': 'purple', 'Europe South': 'orange'}\n",
    "\n",
    "#plotting figure\n",
    "plt.figure(figsize=(10, 6))\n",
    "ax = sns.barplot(x='Subregions', y='Maximum Rental', data=max_subregion_price, palette='Blues_d')\n",
    "plt.title('Most Expensive Rentals by Subregion in Istanbul')\n",
    "ax.set_xticklabels([])\n",
    "plt.xlabel('Subregions')\n",
    "plt.ylabel('Maximum Rental')\n",
    "# Move legend outside the plot\n",
    "plt.legend(title='Subregions', bbox_to_anchor=(1.05, 1), loc='upper left')\n",
    "plt.show()"
   ]
  },
  {
   "cell_type": "markdown",
   "id": "7a1ca86d",
   "metadata": {
    "papermill": {
     "duration": 0.01177,
     "end_time": "2023-08-13T14:51:57.329677",
     "exception": false,
     "start_time": "2023-08-13T14:51:57.317907",
     "status": "completed"
    },
    "tags": []
   },
   "source": [
    "**Average rental prices by neighbourhood**"
   ]
  },
  {
   "cell_type": "code",
   "execution_count": 24,
   "id": "babffecb",
   "metadata": {
    "execution": {
     "iopub.execute_input": "2023-08-13T14:51:57.355862Z",
     "iopub.status.busy": "2023-08-13T14:51:57.354791Z",
     "iopub.status.idle": "2023-08-13T14:51:57.369978Z",
     "shell.execute_reply": "2023-08-13T14:51:57.368866Z"
    },
    "papermill": {
     "duration": 0.030533,
     "end_time": "2023-08-13T14:51:57.372111",
     "exception": false,
     "start_time": "2023-08-13T14:51:57.341578",
     "status": "completed"
    },
    "tags": []
   },
   "outputs": [],
   "source": [
    "avg_region_rental_price = data.loc[:,['neighbourhood_group','price']].groupby('neighbourhood_group').mean()\n",
    "\n",
    "#convert the values to integers\n",
    "avg_region_rental_price = avg_region_rental_price.astype(int)\n"
   ]
  },
  {
   "cell_type": "markdown",
   "id": "04c620ef",
   "metadata": {
    "papermill": {
     "duration": 0.012186,
     "end_time": "2023-08-13T14:51:57.396817",
     "exception": false,
     "start_time": "2023-08-13T14:51:57.384631",
     "status": "completed"
    },
    "tags": []
   },
   "source": [
    "**Average reviews by Room Type**"
   ]
  },
  {
   "cell_type": "markdown",
   "id": "f894bf54",
   "metadata": {
    "papermill": {
     "duration": 0.01179,
     "end_time": "2023-08-13T14:51:57.420663",
     "exception": false,
     "start_time": "2023-08-13T14:51:57.408873",
     "status": "completed"
    },
    "tags": []
   },
   "source": [
    "**Number of owners by neighbourhood**"
   ]
  },
  {
   "cell_type": "markdown",
   "id": "f6451e5a",
   "metadata": {
    "papermill": {
     "duration": 0.011547,
     "end_time": "2023-08-13T14:51:57.444266",
     "exception": false,
     "start_time": "2023-08-13T14:51:57.432719",
     "status": "completed"
    },
    "tags": []
   },
   "source": [
    "**Percentage of owners by neighbourhood**"
   ]
  },
  {
   "cell_type": "markdown",
   "id": "5c428e11",
   "metadata": {
    "papermill": {
     "duration": 0.011569,
     "end_time": "2023-08-13T14:51:57.467686",
     "exception": false,
     "start_time": "2023-08-13T14:51:57.456117",
     "status": "completed"
    },
    "tags": []
   },
   "source": [
    "**Maximum rental price by region and type of accomodation**"
   ]
  },
  {
   "cell_type": "markdown",
   "id": "1369d991",
   "metadata": {
    "papermill": {
     "duration": 0.011574,
     "end_time": "2023-08-13T14:51:57.491472",
     "exception": false,
     "start_time": "2023-08-13T14:51:57.479898",
     "status": "completed"
    },
    "tags": []
   },
   "source": [
    "**Apartments located in the most expensive neighbourhood**"
   ]
  },
  {
   "cell_type": "markdown",
   "id": "a2f320fd",
   "metadata": {
    "papermill": {
     "duration": 0.012207,
     "end_time": "2023-08-13T14:51:57.515498",
     "exception": false,
     "start_time": "2023-08-13T14:51:57.503291",
     "status": "completed"
    },
    "tags": []
   },
   "source": [
    "**Location of properties by their type**"
   ]
  }
 ],
 "metadata": {
  "kernelspec": {
   "display_name": "Python 3",
   "language": "python",
   "name": "python3"
  },
  "language_info": {
   "codemirror_mode": {
    "name": "ipython",
    "version": 3
   },
   "file_extension": ".py",
   "mimetype": "text/x-python",
   "name": "python",
   "nbconvert_exporter": "python",
   "pygments_lexer": "ipython3",
   "version": "3.10.12"
  },
  "papermill": {
   "default_parameters": {},
   "duration": 17.065956,
   "end_time": "2023-08-13T14:51:58.550827",
   "environment_variables": {},
   "exception": null,
   "input_path": "__notebook__.ipynb",
   "output_path": "__notebook__.ipynb",
   "parameters": {},
   "start_time": "2023-08-13T14:51:41.484871",
   "version": "2.4.0"
  }
 },
 "nbformat": 4,
 "nbformat_minor": 5
}
